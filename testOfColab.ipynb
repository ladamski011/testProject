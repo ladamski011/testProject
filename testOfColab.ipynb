{
  "nbformat": 4,
  "nbformat_minor": 0,
  "metadata": {
    "colab": {
      "name": "Untitled1.ipynb",
      "provenance": [],
      "mount_file_id": "1I_a643kIeTDx--3-UvjkHxLLulioKx6u",
      "authorship_tag": "ABX9TyNX97XJSIcQrsrsbPIu8F0+"
    },
    "kernelspec": {
      "name": "python3",
      "display_name": "Python 3"
    },
    "language_info": {
      "name": "python"
    }
  },
  "cells": [
    {
      "cell_type": "markdown",
      "metadata": {
        "id": "GRNsd_i1xjah"
      },
      "source": [
        "# Tests of Colab"
      ]
    },
    {
      "cell_type": "code",
      "metadata": {
        "colab": {
          "base_uri": "https://localhost:8080/"
        },
        "id": "wGSNMhPUzi-v",
        "outputId": "416bd760-c95b-4071-9769-eaaa9e02733d"
      },
      "source": [
        "import os\n",
        "print(os.getcwd())\n",
        "import subprocess\n",
        "ls = subprocess.Popen([\"ls\", \"-p\", \".\"],\n",
        "                      stdout=subprocess.PIPE,\n",
        "                     )\n",
        "for line in ls.stdout:\n",
        "    print (line)"
      ],
      "execution_count": 8,
      "outputs": [
        {
          "output_type": "stream",
          "name": "stdout",
          "text": [
            "/content\n",
            "b'drive/\\n'\n",
            "b'sample_data/\\n'\n"
          ]
        }
      ]
    }
  ]
}