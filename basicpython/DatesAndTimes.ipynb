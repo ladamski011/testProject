{
  "nbformat": 4,
  "nbformat_minor": 0,
  "metadata": {
    "kernelspec": {
      "display_name": "Python 3",
      "language": "python",
      "name": "python3"
    },
    "language_info": {
      "codemirror_mode": {
        "name": "ipython",
        "version": 2
      },
      "file_extension": ".py",
      "mimetype": "text/x-python",
      "name": "python",
      "nbconvert_exporter": "python",
      "pygments_lexer": "ipython2",
      "version": "2.7.6"
    },
    "colab": {
      "name": "DatesAndTimes.ipynb",
      "provenance": []
    }
  },
  "cells": [
    {
      "cell_type": "markdown",
      "metadata": {
        "collapsed": true,
        "pycharm": {
          "name": "#%% md\n"
        },
        "id": "04MuJaRbsr8D"
      },
      "source": [
        "# Dates and Times\n",
        "---\n",
        "\n",
        "Main class structure:\n",
        "```python\n",
        "object\n",
        "    timedelta\n",
        "    tzinfo\n",
        "        timezone\n",
        "    time\n",
        "    date\n",
        "        datetime\n",
        "```\n",
        "\n",
        "Objects could be:\n",
        "* aware: enough info to locate itself in time\n",
        "* naive: not enough- some idealized expression\n",
        "\n",
        "`date` is always naive\n",
        "`time` or `datetime` - depends\n",
        "\n",
        "`d` object is aware if\n",
        "* `d.tzinfo` is not `None`\n",
        "* `d.tzinfo.utcoffset(d)` does not return `None`"
      ]
    },
    {
      "cell_type": "code",
      "metadata": {
        "pycharm": {
          "name": "#%%\n"
        },
        "id": "LaMev49wsr8H",
        "outputId": "f9421eb4-29a8-4ea1-d7cd-0aeba85dcab7"
      },
      "source": [
        "from datetime import date\n",
        "\n",
        "d = date(2020, 2, 23)\n",
        "print(d)\n",
        "print(d.timetuple())"
      ],
      "execution_count": null,
      "outputs": [
        {
          "name": "stdout",
          "output_type": "stream",
          "text": [
            "2020-02-23\n",
            "time.struct_time(tm_year=2020, tm_mon=2, tm_mday=23, tm_hour=0, tm_min=0, tm_sec=0, tm_wday=6, tm_yday=54, tm_isdst=-1)\n"
          ]
        }
      ]
    },
    {
      "cell_type": "markdown",
      "metadata": {
        "collapsed": false,
        "id": "iXjWFw2csr8J"
      },
      "source": [
        "### timedelta\n",
        "\n",
        "Represents duration\n",
        "Timedelta only stores days, seconds and microseconds"
      ]
    },
    {
      "cell_type": "code",
      "metadata": {
        "pycharm": {
          "name": "#%%\n"
        },
        "id": "CptGIgzYsr8K",
        "outputId": "2b1f0136-7d3a-49ff-db16-c0876ba6d040"
      },
      "source": [
        "from datetime import timedelta\n",
        "delta = timedelta(\n",
        "    days=50,\n",
        "    seconds=27,\n",
        "    microseconds=10,\n",
        "    milliseconds=29000,\n",
        "    minutes=5,\n",
        "    hours=8,\n",
        "    weeks=2\n",
        ")\n",
        "# Only days, seconds, and microseconds remain\n",
        "print(delta)\n",
        "#lowest possible difference between objects\n",
        "print(timedelta.resolution)\n",
        "print(timedelta(days=2, minutes=2) == timedelta(days=2, seconds=120))\n",
        "print(\"Total second for delta: {}\".format(delta.total_seconds()))"
      ],
      "execution_count": null,
      "outputs": [
        {
          "name": "stdout",
          "output_type": "stream",
          "text": [
            "64 days, 8:05:56.000010\n",
            "0:00:00.000001\n",
            "True\n",
            "Total second for delta: 5558756.00001\n"
          ]
        }
      ]
    },
    {
      "cell_type": "markdown",
      "metadata": {
        "collapsed": false,
        "id": "CxHd6ia4sr8K"
      },
      "source": [
        "### date"
      ]
    },
    {
      "cell_type": "code",
      "metadata": {
        "pycharm": {
          "name": "#%%\n"
        },
        "id": "murWQDFPsr8L",
        "outputId": "5cdf9b08-f7cc-4beb-eb4c-5371f1be1009"
      },
      "source": [
        "date1 = date.today()\n",
        "print(date1.isoformat())\n",
        "\n",
        "date2 = date.fromisoformat('2019-09-23')\n",
        "print(date2)\n",
        "\n",
        "#convert from epoch\n",
        "date3 = date.fromtimestamp(1593875795)\n",
        "print(date3)\n",
        "\n",
        "#replace an element\n",
        "date4 = date3.replace(year=2019)\n",
        "print(date4)\n",
        "#date3 unchanged\n",
        "print(date3)\n",
        "\n",
        "#convenient access to date elements\n",
        "print(date4.timetuple())\n",
        "\n",
        "for x in date4.timetuple():\n",
        "    print(\"Element name:{}\".format(x))\n"
      ],
      "execution_count": null,
      "outputs": [
        {
          "name": "stdout",
          "output_type": "stream",
          "text": [
            "2020-07-04\n",
            "2019-09-23\n",
            "2020-07-04\n",
            "2019-07-04\n",
            "2020-07-04\n",
            "time.struct_time(tm_year=2019, tm_mon=7, tm_mday=4, tm_hour=0, tm_min=0, tm_sec=0, tm_wday=3, tm_yday=185, tm_isdst=-1)\n",
            "Element name:2019\n",
            "Element name:7\n",
            "Element name:4\n",
            "Element name:0\n",
            "Element name:0\n",
            "Element name:0\n",
            "Element name:3\n",
            "Element name:185\n",
            "Element name:-1\n"
          ]
        }
      ]
    },
    {
      "cell_type": "markdown",
      "metadata": {
        "collapsed": false,
        "id": "FBnL1tESsr8L"
      },
      "source": [
        "### datetime"
      ]
    },
    {
      "cell_type": "code",
      "metadata": {
        "pycharm": {
          "name": "#%%\n"
        },
        "id": "b8W1oCMlsr8M",
        "outputId": "07f2550e-ff39-4135-dd34-cfeb198f3066"
      },
      "source": [
        "from datetime import datetime\n",
        "from datetime import timezone\n",
        "#similar initializaitons to date\n",
        "\n",
        "dt1 = datetime.fromtimestamp(1593875795)\n",
        "print(dt1)\n",
        "dt1.date() == date3\n",
        "print(dt1.tzinfo)\n",
        "\n",
        "#let's try with now\n",
        "dt2 = datetime.now()\n",
        "print(dt2)\n",
        "print(dt2.tzinfo)\n",
        "\n",
        "#this is a naive datetime, better to use this with timezone\n",
        "\n",
        "dt2 = datetime.now(timezone.utc)\n",
        "print(dt2)\n",
        "print(dt2.tzinfo)\n",
        "\n",
        "#this is similar to posix\n",
        "dt4 = datetime.fromtimestamp(1593875795, timezone.utc)\n",
        "print(dt4)\n",
        "print(dt4.tzinfo)"
      ],
      "execution_count": null,
      "outputs": [
        {
          "name": "stdout",
          "output_type": "stream",
          "text": [
            "2020-07-04 17:16:35\n",
            "None\n",
            "2020-07-04 22:48:12.910726\n",
            "None\n",
            "2020-07-04 20:48:12.910901+00:00\n",
            "UTC\n",
            "2020-07-04 15:16:35+00:00\n",
            "UTC\n"
          ]
        }
      ]
    },
    {
      "cell_type": "markdown",
      "metadata": {
        "collapsed": false,
        "id": "g3Mxrhc_sr8N"
      },
      "source": [
        "`datetime` library itself does not provide lists of timezones, we use `pytz` for definitions.\n",
        "\n",
        "We can use them with `\n",
        "* `datetime.astimezone` - to change timezone on non-naive datetime\n",
        "* `timezone.localize` - to add timezone to a naive datetime"
      ]
    },
    {
      "cell_type": "code",
      "metadata": {
        "pycharm": {
          "name": "#%%\n"
        },
        "id": "9hhkCZYNsr8O",
        "outputId": "2a82516f-d094-4e0b-9a4a-41ce5262fc8e"
      },
      "source": [
        "import pytz\n",
        "from pytz import timezone\n",
        "\n",
        "au_tz = timezone('Australia/Sydney')\n",
        "\n",
        "dt5 = dt4.astimezone(au_tz)\n",
        "print(dt5)\n",
        "print(dt5.tzinfo)\n",
        "print(dt4)\n",
        "dt6 = au_tz.localize(datetime.fromisoformat(\"2015-03-09\"))\n",
        "print(dt6)\n",
        "print(dt6.tzinfo)\n",
        "\n",
        "# one can get a few nice helper, for example timezone for country\n",
        "from pytz import country_timezones\n",
        "print(country_timezones['PL'])\n"
      ],
      "execution_count": null,
      "outputs": [
        {
          "name": "stdout",
          "output_type": "stream",
          "text": [
            "2020-07-05 01:16:35+10:00\n",
            "Australia/Sydney\n",
            "2020-07-04 15:16:35+00:00\n",
            "2015-03-09 00:00:00+11:00\n",
            "Australia/Sydney\n",
            "['Europe/Warsaw']\n"
          ]
        }
      ]
    },
    {
      "cell_type": "markdown",
      "metadata": {
        "id": "RFekSovvswaA"
      },
      "source": [
        "dfgsfg"
      ]
    }
  ]
}