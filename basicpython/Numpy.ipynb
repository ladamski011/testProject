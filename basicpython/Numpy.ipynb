{
 "cells": [
  {
   "cell_type": "markdown",
   "metadata": {
    "collapsed": true,
    "pycharm": {
     "name": "#%% md\n"
    }
   },
   "source": [
    "# NumPy"
   ]
  },
  {
   "cell_type": "code",
   "execution_count": 1,
   "outputs": [],
   "source": [
    "import numpy as np"
   ],
   "metadata": {
    "collapsed": false,
    "pycharm": {
     "name": "#%%\n"
    }
   }
  },
  {
   "cell_type": "code",
   "execution_count": 2,
   "outputs": [
    {
     "name": "stdout",
     "output_type": "stream",
     "text": [
      "[ 0  1  2  3  4  5  6  7  8  9 10 11 12 13 14]\n",
      "<class 'numpy.ndarray'>\n"
     ]
    }
   ],
   "source": [
    "range = np.arange(15)\n",
    "print(range)\n",
    "print(type(range))"
   ],
   "metadata": {
    "collapsed": false,
    "pycharm": {
     "name": "#%%\n"
    }
   }
  },
  {
   "cell_type": "markdown",
   "source": [
    "multiple ways of defining:"
   ],
   "metadata": {
    "collapsed": false
   }
  },
  {
   "cell_type": "code",
   "execution_count": 11,
   "outputs": [
    {
     "name": "stdout",
     "output_type": "stream",
     "text": [
      "[1 2 3]\n",
      "[[1 2 3]\n",
      " [4 5 6]]\n",
      "(2, 3)\n",
      "[[1 list([2, 6]) 3]\n",
      " [4 5 6]]\n",
      "(2, 3)\n",
      "[[[ 1 10]\n",
      "  [ 2  6]\n",
      "  [ 3  8]]\n",
      "\n",
      " [[ 4  5]\n",
      "  [ 6 76]\n",
      "  [ 3 45]]]\n",
      "(2, 3, 2)\n",
      "create a range with limits and increment:\n",
      "[ 1.   1.5  2.   2.5  3.   3.5  4.   4.5  5.   5.5  6.   6.5  7.   7.5\n",
      "  8.   8.5  9.   9.5 10.  10.5 11.  11.5 12.  12.5 13.  13.5 14.  14.5\n",
      " 15.  15.5 16.  16.5 17.  17.5 18.  18.5 19.  19.5]\n",
      "or create specifying limits and number of objects, usefull to control length\n",
      "[0.         0.06666667 0.13333333 0.2        0.26666667 0.33333333\n",
      " 0.4        0.46666667 0.53333333 0.6        0.66666667 0.73333333\n",
      " 0.8        0.86666667 0.93333333 1.        ]\n",
      "we can now reshape to create a new object\n",
      "[[0.         0.06666667 0.13333333 0.2       ]\n",
      " [0.26666667 0.33333333 0.4        0.46666667]\n",
      " [0.53333333 0.6        0.66666667 0.73333333]\n",
      " [0.8        0.86666667 0.93333333 1.        ]]\n",
      "[0.         0.06666667 0.13333333 0.2        0.26666667 0.33333333\n",
      " 0.4        0.46666667 0.53333333 0.6        0.66666667 0.73333333\n",
      " 0.8        0.86666667 0.93333333 1.        ]\n",
      "or we can change in place using resize\n",
      "[[[[0.         0.06666667]\n",
      "   [0.13333333 0.2       ]]\n",
      "\n",
      "  [[0.26666667 0.33333333]\n",
      "   [0.4        0.46666667]]]\n",
      "\n",
      "\n",
      " [[[0.53333333 0.6       ]\n",
      "   [0.66666667 0.73333333]]\n",
      "\n",
      "  [[0.8        0.86666667]\n",
      "   [0.93333333 1.        ]]]]\n",
      "If we specify fewer dimensions when indexing, it will be assumed first are given and the rest is full\n",
      "[[[0.53333333 0.6       ]\n",
      "  [0.66666667 0.73333333]]\n",
      "\n",
      " [[0.8        0.86666667]\n",
      "  [0.93333333 1.        ]]]\n",
      "three dots say a number of full dimensions\n",
      "[[0.06666667 0.2       ]\n",
      " [0.33333333 0.46666667]]\n",
      "[[0.06666667 0.2       ]\n",
      " [0.33333333 0.46666667]]\n",
      "The view above is confusing when printed, let's make it look more familiar by expanding dimensions\n",
      "[[[[0.06666667 0.2       ]]\n",
      "\n",
      "  [[0.33333333 0.46666667]]]]\n"
     ]
    }
   ],
   "source": [
    "a1 = np.array([1, 2, 3])\n",
    "print(a1)\n",
    "\n",
    "a2 = np.array([[1, 2, 3], [4, 5, 6]])\n",
    "print(a2)\n",
    "print(a2.shape)\n",
    "\n",
    "a3 = np.array([[1, [2, 6], 3], [4, 5, 6]])\n",
    "print(a3)\n",
    "print(a3.shape)\n",
    "\n",
    "a4 = np.array([[[1, 10], [2, 6], [3, 8]], [[4, 5], [6, 76], [3, 45]]])\n",
    "print(a4)\n",
    "print(a4.shape)\n",
    "\n",
    "print(\"create a range with limits and increment:\")\n",
    "print(np.arange(1, 20, 0.5))\n",
    "\n",
    "print(\"or create specifying limits and number of objects, usefull to control length\")\n",
    "linsp = np.linspace(0, 1, 16)\n",
    "print(linsp)\n",
    "print(\"we can now reshape to create a new object\")\n",
    "print(linsp.reshape(4, 4))\n",
    "print(linsp)\n",
    "print(\"or we can change in place using resize\")\n",
    "linsp.resize((2, 2, 2, 2))\n",
    "print(linsp)\n",
    "\n",
    "print(\"If we specify fewer dimensions when indexing, it will be assumed first are given and the rest is full\")\n",
    "print(linsp[1])\n",
    "print(\"three dots say a number of full dimensions\")\n",
    "print(linsp[0, :, :, 1])\n",
    "print(linsp[0, ..., 1])\n",
    "\n",
    "print(\"The view above is confusing when printed, let's make it look more familiar by expanding dimensions\")\n",
    "view = linsp[0, ..., 1]\n",
    "print(view[np.newaxis, :, np.newaxis])"
   ],
   "metadata": {
    "collapsed": false,
    "pycharm": {
     "name": "#%%\n"
    }
   }
  },
  {
   "cell_type": "markdown",
   "source": [
    "### Prinitng arrays\n",
    "\n",
    "When you print an array, NumPy displays it in a similar way to nested lists, but with the following layout:\n",
    "\n",
    "* the last axis is printed from left to right,\n",
    "* the second-to-last is printed from top to bottom,\n",
    "* the rest are also printed from top to bottom, with each slice separated from the next by an empty line.\n",
    "\n",
    "> One-dimensional arrays are then printed as rows, bidimensionals as matrices and tridimensionals as lists of matrices."
   ],
   "metadata": {
    "collapsed": false
   }
  },
  {
   "cell_type": "code",
   "execution_count": 4,
   "outputs": [
    {
     "name": "stdout",
     "output_type": "stream",
     "text": [
      "[1 2 3]\n",
      "Use newaxis to view a1 not as row but as column\n",
      "[[1]\n",
      " [2]\n",
      " [3]]\n",
      "we can do the same with 3 dimensions\n",
      "[[[1]]\n",
      "\n",
      " [[2]]\n",
      "\n",
      " [[3]]]\n",
      "[[[1]\n",
      "  [2]\n",
      "  [3]]]\n",
      "All standard operations are performed element wise\n",
      "[[  1   8  27]\n",
      " [ 64 125 216]]\n",
      "matrix multiplication with @\n",
      "[[ 0.          3.57142857  7.14285714 10.71428571 14.28571429]\n",
      " [17.85714286 21.42857143 25.         28.57142857 32.14285714]\n",
      " [35.71428571 39.28571429 42.85714286 46.42857143 50.        ]]\n",
      "[[142.85714286 164.28571429 185.71428571 207.14285714 228.57142857]\n",
      " [303.57142857 357.14285714 410.71428571 464.28571429 517.85714286]]\n"
     ]
    }
   ],
   "source": [
    "from numpy import newaxis\n",
    "\n",
    "print(a1)\n",
    "print(\"Use newaxis to view a1 not as row but as column\")\n",
    "print(a1[:, newaxis])\n",
    "print(\"we can do the same with 3 dimensions\")\n",
    "print(a1[:, newaxis, newaxis])\n",
    "print(a1[newaxis, :, newaxis])\n",
    "\n",
    "print(\"All standard operations are performed element wise\")\n",
    "print(a2 ** 3)\n",
    "print(\"matrix multiplication with @\")\n",
    "a5 = np.linspace(0, 50, 15).reshape(3,5)\n",
    "print(a5)\n",
    "print(a2@a5)"
   ],
   "metadata": {
    "collapsed": false,
    "pycharm": {
     "name": "#%%\n"
    }
   }
  },
  {
   "cell_type": "markdown",
   "source": [
    "### broadcasting\n",
    "\n",
    "Broadcasting makes it possible to oparate on arrays without matching sizes.\n",
    "\n",
    "Shapes are checked from the right -> they have to be either equal or 1"
   ],
   "metadata": {
    "collapsed": false
   }
  },
  {
   "cell_type": "code",
   "execution_count": 18,
   "outputs": [
    {
     "name": "stdout",
     "output_type": "stream",
     "text": [
      "[ 0  1  2  3  4  5  6  7  8  9 10 11 12 13 14 15 16 17 18 19]\n",
      "[20 21 22 23 24 25 26 27 28 29]\n",
      "(20,) (10,)\n",
      "[[25 26 27 28 29]\n",
      " [26 27 28 29 30]\n",
      " [27 28 29 30 31]\n",
      " [28 29 30 31 32]\n",
      " [29 30 31 32 33]\n",
      " [30 31 32 33 34]\n",
      " [31 32 33 34 35]\n",
      " [32 33 34 35 36]\n",
      " [33 34 35 36 37]\n",
      " [34 35 36 37 38]\n",
      " [35 36 37 38 39]\n",
      " [36 37 38 39 40]\n",
      " [37 38 39 40 41]\n",
      " [38 39 40 41 42]\n",
      " [39 40 41 42 43]\n",
      " [40 41 42 43 44]\n",
      " [41 42 43 44 45]\n",
      " [42 43 44 45 46]\n",
      " [43 44 45 46 47]\n",
      " [44 45 46 47 48]]\n"
     ]
    }
   ],
   "source": [
    "rng1 = np.arange(0, 20)\n",
    "print(rng1)\n",
    "rng2 = np.arange(20, 30)\n",
    "print(rng2)\n",
    "\n",
    "try:\n",
    "    rng1 + rng2\n",
    "except ValueError:\n",
    "    print(repr(rng1.shape) + \" \" + repr(rng2.shape))\n",
    "    \n",
    "rng1 = rng1[:, newaxis]\n",
    "\n",
    "print(rng1 + rng2[-5:])"
   ],
   "metadata": {
    "collapsed": false,
    "pycharm": {
     "name": "#%%\n"
    }
   }
  }
 ],
 "metadata": {
  "kernelspec": {
   "display_name": "Python 3",
   "language": "python",
   "name": "python3"
  },
  "language_info": {
   "codemirror_mode": {
    "name": "ipython",
    "version": 2
   },
   "file_extension": ".py",
   "mimetype": "text/x-python",
   "name": "python",
   "nbconvert_exporter": "python",
   "pygments_lexer": "ipython2",
   "version": "2.7.6"
  }
 },
 "nbformat": 4,
 "nbformat_minor": 0
}