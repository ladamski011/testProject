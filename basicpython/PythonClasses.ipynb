{
 "cells": [
  {
   "cell_type": "markdown",
   "metadata": {
    "collapsed": true,
    "pycharm": {
     "name": "#%% md\n"
    }
   },
   "source": [
    "# Classes\n",
    "\n",
    "### Basic assumptions:\n",
    "\n",
    "* class members are public\n",
    "* all member functions are virtual\n",
    "\n",
    "> in C++ `virtual` mean that\n",
    ">Virtual functions are member functions whose behavior can be overridden in derived classes. As opposed to non-virtual functions, the overridden behavior is preserved even if there is no compile-time information about the actual type of the class\n"
   ]
  },
  {
   "cell_type": "markdown",
   "source": [
    "### Scopes\n",
    "\n",
    "> A namespace is a mapping from names to objects. Most namespaces are currently implemented as Python dictionaries, but that’s normally not noticeable in any way (except for performance), and it may change in the future.\n",
    "\n",
    "Although scopes are determined statically, they are used dynamically. At any time during execution, there are at least three nested scopes whose namespaces are directly accessible:\n",
    "\n",
    "* the innermost scope, which is searched first, contains the local names\n",
    "* the scopes of any enclosing functions, which are searched starting with the nearest enclosing scope, contains non-local, but also non-global names\n",
    "* the next-to-last scope contains the current module’s global names\n",
    "* the outermost scope (searched last) is the namespace containing built-in names"
   ],
   "metadata": {
    "collapsed": false
   }
  },
  {
   "cell_type": "code",
   "execution_count": 1,
   "outputs": [
    {
     "name": "stdout",
     "output_type": "stream",
     "text": [
      "After local assignment: test spam\n",
      "After nonlocal assignment: nonlocal spam\n",
      "After global assignment: nonlocal spam\n",
      "After nonlocal assignment: nonlocal spam\n",
      "In global scope: global spam\n"
     ]
    }
   ],
   "source": [
    "def scope_test():\n",
    "    def do_local():\n",
    "        spam = \"local spam\"\n",
    "\n",
    "    def do_nonlocal():\n",
    "        nonlocal spam\n",
    "        spam = \"nonlocal spam\"\n",
    "\n",
    "    def do_global():\n",
    "        global spam\n",
    "        spam = \"global spam\"\n",
    "\n",
    "    spam = \"test spam\"\n",
    "    do_local()\n",
    "    print(\"After local assignment:\", spam)\n",
    "    do_nonlocal()\n",
    "    print(\"After nonlocal assignment:\", spam)\n",
    "    do_global()\n",
    "    print(\"After global assignment:\", spam)\n",
    "    do_nonlocal()\n",
    "    print(\"After nonlocal assignment:\", spam)\n",
    "\n",
    "scope_test()\n",
    "print(\"In global scope:\", spam)"
   ],
   "metadata": {
    "collapsed": false,
    "pycharm": {
     "name": "#%%\n"
    }
   }
  },
  {
   "cell_type": "markdown",
   "source": [
    "### Class definitions\n",
    "\n",
    "``` python\n",
    "class ClassName:\n",
    "    <statement-1>\n",
    "    .\n",
    "    .\n",
    "    .\n",
    "    <statement-N>\n",
    "```"
   ],
   "metadata": {
    "collapsed": false
   }
  },
  {
   "cell_type": "code",
   "execution_count": 8,
   "outputs": [
    {
     "name": "stdout",
     "output_type": "stream",
     "text": [
      "First simple class\n",
      "<class 'type'>\n",
      "class i= 3 and y=10\n",
      "class i= 3 and y=30\n",
      "class i= 3 and y=10\n",
      "3\n",
      "5\n",
      "3\n"
     ]
    }
   ],
   "source": [
    "class SimpleClass:\n",
    "    \"\"\"First simple class\"\"\"\n",
    "    i = 3\n",
    "\n",
    "    def __init__(self, a):\n",
    "        self.y = a\n",
    "\n",
    "print(SimpleClass.__doc__)\n",
    "print(type(SimpleClass))\n",
    "obj1 = SimpleClass(10)\n",
    "print(\"class i= {} and y={}\".format(obj1.i, obj1.y))\n",
    "\n",
    "obj2 = SimpleClass(30)\n",
    "print(\"class i= {} and y={}\".format(obj2.i, obj2.y))\n",
    "\n",
    "print(\"class i= {} and y={}\".format(obj1.i, obj1.y))\n",
    "\n",
    "#an example of instance object overriding class object\n",
    "simpleClass1 = SimpleClass(3)\n",
    "print(simpleClass1.i)\n",
    "simpleClass1.i = 5\n",
    "print(simpleClass1.i)\n",
    "simpleClass2 = SimpleClass(7)\n",
    "print(simpleClass2.i)"
   ],
   "metadata": {
    "collapsed": false,
    "pycharm": {
     "name": "#%%\n"
    }
   }
  },
  {
   "cell_type": "markdown",
   "source": [
    "The code above demonstrates \"shadowing\" of class attribute by instance attribute, but class attribute is still shared by all instances:"
   ],
   "metadata": {
    "collapsed": false
   }
  },
  {
   "cell_type": "code",
   "execution_count": 23,
   "outputs": [
    {
     "name": "stdout",
     "output_type": "stream",
     "text": [
      "Getting attribute 'item'\n",
      "Getting attribute '__class__'\n",
      "<class '__main__.Container'>\n",
      "Getting attribute 'item'\n",
      "Container [1]\n",
      "Getting attribute 'item'\n",
      "[1]\n",
      "Getting attribute 'item'\n",
      "[1]\n",
      "Getting attribute 'item'\n",
      "[1]\n",
      "Trying to set attribute 'item' to [2, 3]\n",
      "Getting attribute 'item'\n",
      "[1]\n",
      "Getting attribute 'item'\n",
      "[1]\n",
      "Getting attribute 'item'\n",
      "[1]\n",
      "Getting attribute 'items'\n",
      "No such attribute 'items'\n",
      "None\n"
     ]
    }
   ],
   "source": [
    "class Container:\n",
    "    item = []\n",
    "\n",
    "    def __repr__(self):\n",
    "        return \"Container {}\".format(repr(self.item))\n",
    "\n",
    "    def __getattribute__(self, name):\n",
    "        print(\"Getting attribute {}\".format(repr(name)))\n",
    "        return object.__getattribute__(self, name)\n",
    "\n",
    "    def __getattr__(self, name):\n",
    "        print(\"No such attribute {}\".format(repr(name)))\n",
    "\n",
    "    def __setattr__(self, key, value):\n",
    "        print(\"Trying to set attribute {} to {}\".format(repr(key), repr(value)))\n",
    "\n",
    "    pass\n",
    "\n",
    "c1 = Container()\n",
    "c2 = Container()\n",
    "\n",
    "c1.item.append(1)\n",
    "print(c1.__class__)\n",
    "print(c1)\n",
    "\n",
    "print(c1.item)\n",
    "print(c2.item)\n",
    "\n",
    "#let's create a new object after modification\n",
    "c3 = Container()\n",
    "print(c3.item)\n",
    "\n",
    "#lets shadow class variable with instance variable\n",
    "c3.item = [2, 3]\n",
    "print(c3.item)\n",
    "#other objects are unchanged\n",
    "print(c1.item)\n",
    "print(c2.item)\n",
    "\n",
    "print(c2.items)\n"
   ],
   "metadata": {
    "collapsed": false,
    "pycharm": {
     "name": "#%%\n"
    }
   }
  }
 ],
 "metadata": {
  "kernelspec": {
   "display_name": "Python 3",
   "language": "python",
   "name": "python3"
  },
  "language_info": {
   "codemirror_mode": {
    "name": "ipython",
    "version": 2
   },
   "file_extension": ".py",
   "mimetype": "text/x-python",
   "name": "python",
   "nbconvert_exporter": "python",
   "pygments_lexer": "ipython2",
   "version": "2.7.6"
  }
 },
 "nbformat": 4,
 "nbformat_minor": 0
}